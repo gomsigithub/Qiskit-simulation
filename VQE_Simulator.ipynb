{
  "cells": [
    {
      "cell_type": "code",
      "source": [
        "%matplotlib inline\n",
        "import numpy as np\n",
        "from scipy.optimize import minimize\n",
        "from qiskit import *"
      ],
      "metadata": {
        "id": "6IgomP9Ij-Pt"
      },
      "execution_count": 3,
      "outputs": []
    },
    {
      "cell_type": "markdown",
      "metadata": {
        "id": "WenmBHyhjx7z"
      },
      "source": [
        "<h1 align=\"center\">\n",
        "Simulation of a many-body quantum system\n",
        "</h1>\n",
        "\n",
        "**The problem:** Simulating many body quantum systems is a difficult task on classical computer due to exponential increase in the data with increase in number of particles. One important aspect of simulation is to calculate the ground state energy. This becomes impossible on classical systems as the number of particles grow.\n",
        "\n",
        "**The solution:**  Using Variational quantum eigensolver(VQE) on a quantum computer Quantum computer, that finds the minimum energy of a given hamiltonian.\n",
        "$\\langle \\psi | H | \\psi \\rangle \\geq E_i \\rightarrow$ the expectation value of a Hamiltonian will always be greater than or equal to the energy of the ground state of this system.\n"
      ]
    },
    {
      "cell_type": "markdown",
      "metadata": {
        "id": "0TZWBoijjx70"
      },
      "source": [
        "We will be solving for the ground state energy of a two particle system. As explained in the PDF a two particle system interaction can be described using the following Hamiltonian\n",
        "\n",
        "$$\\widehat{H}=A\\left(\\begin{array}{cccc}\n",
        "\\frac{1}{2} & 0 & 0 & 0 \\\\\n",
        "0 & -\\frac{1}{2} & 1 & 0 \\\\\n",
        "0 & 1 & -\\frac{1}{2} & 0 \\\\\n",
        "0 & 0 & 0 & \\frac{1}{2}\n",
        "\\end{array}\\right)$$\n",
        "\n",
        "\n",
        "* We use VQE to find the groud state of the Hamiltonian:$H=\\begin{pmatrix}\n",
        "\\frac{1}{2} & 0 &0  & 0 \\\\\n",
        "0 & -\\frac{1}{2} & 1 & 0 \\\\\n",
        "0 & 1 & -\\frac{1}{2} & 0 \\\\\n",
        "0 & 0 & 0 & \\frac{1}{2}\n",
        "\\end{pmatrix},$\n",
        " where we have ignored the $A$ for now.\n",
        "\n",
        "\n",
        "### VQE ON A **IDEAL** SIMULATOR\n",
        "\n",
        "* First check the eigenvalues of $H$ and find the lowest one which corresponds to the lowest energy."
      ]
    },
    {
      "cell_type": "code",
      "execution_count": 4,
      "metadata": {
        "colab": {
          "base_uri": "https://localhost:8080/"
        },
        "id": "GD9TFmFyjx70",
        "outputId": "01d8b920-f722-4245-e9c5-a18979a8d1d9"
      },
      "outputs": [
        {
          "output_type": "stream",
          "name": "stdout",
          "text": [
            "The eigenvalues of H : [ 0.5 -1.5  0.5  0.5]\n",
            "The ground state energy is:  -1.5\n"
          ]
        }
      ],
      "source": [
        "H = np.mat(\"0.5 0 0 0; 0 -0.5 1 0; 0 1 -0.5 0; 0 0 0 0.5\") #The Hamiltonian matrix\n",
        "print(\"The eigenvalues of H :\", np.linalg.eigvals(H))\n",
        "print('The ground state energy is: ', np.linalg.eigvals(H)[1])"
      ]
    },
    {
      "cell_type": "markdown",
      "metadata": {
        "id": "gHaOJCYnjx71"
      },
      "source": [
        "* As can be seen the lowest eigenvalue is $-\\frac{3}{2}$.\n",
        "\n",
        "## Variational Quantum Eingensolver (VQE):"
      ]
    },
    {
      "cell_type": "markdown",
      "metadata": {
        "id": "c79lkgYWjx71"
      },
      "source": [
        "### - Now let us find this value using VQE and see the accuracy of its result\n",
        "\n",
        "* First of all, we need to be able to express the Hamiltonian matrix in a quantum circuit, so that the expectations values can be measured using the quantum computer.\n",
        "\n",
        "* To achieve this, wedecompose $H$ into the sum of tensor products of Pauli operators, multiplied by some constant coefficients: $H = a \\cdot II + b \\cdot XX + c \\cdot ZZ + d \\cdot YY.$\n",
        "\n",
        "    This equation leads to $4$ equations with $4$ variables, which can be written as $Ax=C$ :\n",
        "$$\n",
        "\\begin{pmatrix}\n",
        "1 & 0 & 1  & 0 \\\\\n",
        "0 & 1 & 0 & -1 \\\\\n",
        "1 & 0 & -1 & 0 \\\\\n",
        "0 & 1 & 0 & 1\n",
        "\\end{pmatrix}.\n",
        "\\begin{pmatrix}\n",
        "a \\\\\n",
        "b \\\\\n",
        "c \\\\\n",
        "d\n",
        "\\end{pmatrix} =\n",
        "\\begin{pmatrix}\n",
        "1/2 \\\\\n",
        "0 \\\\\n",
        "-1/2 \\\\\n",
        "1\n",
        "\\end{pmatrix}\n",
        "$$\n",
        "\n",
        "The coefficients can be found as following"
      ]
    },
    {
      "cell_type": "code",
      "execution_count": 45,
      "metadata": {
        "colab": {
          "base_uri": "https://localhost:8080/"
        },
        "id": "y-KtYhcqjx71",
        "outputId": "432cb589-7c05-49ef-eb7b-90e4b73bbfe6"
      },
      "outputs": [
        {
          "output_type": "stream",
          "name": "stdout",
          "text": [
            "a: 0.0 \n",
            " b: 0.5 \n",
            " c: 0.5 \n",
            " d: 0.5\n"
          ]
        }
      ],
      "source": [
        "A = np.array([[1,0,1,0],[0,1,0,-1],[1,0,-1,0],[0,1,0,1]])\n",
        "C = np.array([1/2,0,-1/2,1])\n",
        "\n",
        "# The matrix that contains the coefficients\n",
        "S = np.linalg.solve(A,C) # x = A^-1 * C\n",
        "a, b, c, d = S[0], S[1], S[2], S[3]\n",
        "print(\"a:\", a,\"\\n b:\", b, \"\\n c:\", c, \"\\n d:\", d)"
      ]
    },
    {
      "cell_type": "markdown",
      "metadata": {
        "id": "1pL_8pKsjx72"
      },
      "source": [
        "Thus we have  $H = 0 \\cdot II + 0.5 \\cdot XX + 0.5 \\cdot ZZ + 0.5 \\cdot YY.$ We will convert $H$ to a dictionary for convenience later."
      ]
    },
    {
      "cell_type": "code",
      "execution_count": 46,
      "metadata": {
        "colab": {
          "base_uri": "https://localhost:8080/"
        },
        "id": "9lyNat63jx72",
        "outputId": "0bdf3b0f-b826-4e24-a5ac-4abea52a0902"
      },
      "outputs": [
        {
          "output_type": "stream",
          "name": "stdout",
          "text": [
            "{'II': 0.0, 'XX': 0.5, 'ZZ': 0.5, 'YY': 0.5}\n"
          ]
        }
      ],
      "source": [
        "H ={'II':a, 'XX':b, 'ZZ':c,'YY':d}\n",
        "print(H)"
      ]
    },
    {
      "cell_type": "markdown",
      "metadata": {
        "id": "Ulo6wsTejx72"
      },
      "source": [
        "### - The Ansatz:\n",
        "\n",
        "* The VQE method consists of calculating the expectation value of $H$, on various possible states in order to find that particular state which gives the minimum energy, i.e.,  $min_\\theta\\left\\langle \\psi \\right| H \\left| \\psi \\right\\rangle = lowest\\; energy$.\n",
        "\n",
        "* We initialize our circuit with a guess, or ansatz: $$(I \\otimes X).(C_{NOT}).(R_z(\\theta) \\otimes I).(H \\otimes I) \\left| 0 \\right\\rangle \\otimes \\left| 0 \\right\\rangle$$"
      ]
    },
    {
      "cell_type": "code",
      "execution_count": 36,
      "metadata": {
        "id": "Zl9eZyeEjx72"
      },
      "outputs": [],
      "source": [
        "# The ansatz initialization\n",
        "def ansatz_init(circuit, parameter):\n",
        "    q = circuit.qregs[0]\n",
        "    circuit.h(q[0])\n",
        "    circuit.rz(parameter, q[0])\n",
        "    circuit.cx(q[0], q[1])\n",
        "    circuit.x(q[1])\n",
        "    return circuit"
      ]
    },
    {
      "cell_type": "markdown",
      "metadata": {
        "id": "P7NBuZAjjx72"
      },
      "source": [
        "### - Transfer to the $Z\\; basis$:\n",
        "* The only physical measurement that a quantum computer can do, is in the Z basis {${\\left| 0 \\right\\rangle; \\left| 1 \\right\\rangle}$}. And as we can see, the Hamiltonian is decomposed into a linear combination of Pauli's matrices, as these form a basis for hermitian matrices. Hence, we have three kinds of measurement basis:\n",
        "$$Z basis: {\\left| 0 \\right\\rangle; \\left| 1 \\right\\rangle},\\qquad X basis: {\\left| + \\right\\rangle; \\left| - \\right\\rangle},\\qquad Y basis: {\\left| +i \\right\\rangle; \\left| -i \\right\\rangle}.$$\n",
        "Thus, we need to express the last two basis in the $Z\\;basis$ :\n",
        "\n",
        " $X\\;basis$ in term of $Z\\;basis$; we get the matrix: $H^{'} = \\frac{1}{\\sqrt{2}}\\begin{pmatrix}\n",
        "1 & 1\\\\\n",
        "1 & -1\n",
        "\\end{pmatrix}$.\n",
        "\n",
        " $Y\\;basis$ in term of $Z\\;basis$; we get the matrix: $Y^{'} = \\frac{1}{\\sqrt{2}}\\begin{pmatrix}\n",
        "1 & 1\\\\\n",
        "i & -i\n",
        "\\end{pmatrix}$.\n",
        "\n",
        "Those two matrices transfer from {${\\left| 0 \\right\\rangle; \\left| 1 \\right\\rangle}$} to {${\\left| + \\right\\rangle; \\left| - \\right\\rangle}$} and {${\\left| +i \\right\\rangle; \\left| -i \\right\\rangle}$} respectevly.\n",
        "    \n",
        "Every quantum state $\\left| \\psi \\right\\rangle$ can be expressed in different sets of basis, so if we want it to be written in the {$\\left| 0 \\right\\rangle; \\left| 1 \\right\\rangle$} basis, to get the count of the measurement to calculate the expectations values, we process as follow:\n",
        "\n",
        " * We apply the inverse of $H^{'}$ to go from the {${\\left| + \\right\\rangle; \\left| - \\right\\rangle}$} basis to the {${\\left| 0 \\right\\rangle; \\left| 1 \\right\\rangle}$} basis; consequently, we get the matrix: $H_{gate} = \\frac{1}{\\sqrt{2}}\\begin{pmatrix}\n",
        "1 & 1\\\\\n",
        "1 & -1\n",
        "\\end{pmatrix}$.\n",
        " * We apply the inverse of $Y^{'}$ to go from the {${\\left| +i \\right\\rangle; \\left| -i \\right\\rangle}$} basis to the {${\\left| 0 \\right\\rangle; \\left| 1 \\right\\rangle}$} basis; then, we get the matrix: $Y_{gate} = \\frac{1}{\\sqrt{2}}\\begin{pmatrix}\n",
        "1 & -i\\\\\n",
        "1 & i\n",
        "\\end{pmatrix}$."
      ]
    },
    {
      "cell_type": "code",
      "execution_count": 37,
      "metadata": {
        "id": "i78oEK6sjx72"
      },
      "outputs": [],
      "source": [
        "# transfer to the Z basis measurement circuit\n",
        "def z_measure_circ(parameter, measure):\n",
        "    q = QuantumRegister(2)\n",
        "    c = ClassicalRegister(2)\n",
        "    circuit = QuantumCircuit(q, c)\n",
        "\n",
        "    # implement the ansatz in the circuit\n",
        "    circuit = ansatz_init(circuit, parameter)\n",
        "\n",
        "    # measurement\n",
        "    if measure == 'XX':\n",
        "        circuit.barrier(q[0],q[1])\n",
        "        circuit.u(np.pi/2, 0, np.pi, q[0])\n",
        "        circuit.u(np.pi/2, 0, np.pi, q[1])\n",
        "        circuit.measure(q[0], c[0])\n",
        "        circuit.measure(q[1], c[1])\n",
        "    elif measure == 'ZZ':\n",
        "        circuit.measure(q[0], c[0])\n",
        "        circuit.measure(q[1], c[1])\n",
        "    elif measure == 'YY':\n",
        "        circuit.barrier(q[0],q[1])\n",
        "        circuit.u(np.pi/2, 0, np.pi/2, q[0])\n",
        "        circuit.u(np.pi/2,0, np.pi/2, q[1])\n",
        "        circuit.measure(q[0], c[0])\n",
        "        circuit.measure(q[1], c[1])\n",
        "    else:\n",
        "         raise ValueError('Input should be \"XX\" or \"YY\" or \"ZZ\"')\n",
        "\n",
        "    return circuit"
      ]
    },
    {
      "cell_type": "markdown",
      "metadata": {
        "id": "MjmzJVGpjx73"
      },
      "source": [
        "* The counts result is returned in qiskit, in a form of a dictionary, so we will define a function ```get_from``` that returns the values in the dictionary."
      ]
    },
    {
      "cell_type": "code",
      "execution_count": 38,
      "metadata": {
        "id": "4Jn5CcIFjx73"
      },
      "outputs": [],
      "source": [
        "# If key is missing than return 0 otherwise the corresponding value.\n",
        "def get_from(d: dict, key: str):\n",
        "\n",
        "    value = 0\n",
        "    if key in d:\n",
        "        value = d[key]\n",
        "    return value"
      ]
    },
    {
      "cell_type": "markdown",
      "metadata": {
        "id": "_lTyMPw7jx73"
      },
      "source": [
        "### - The expectation value:\n",
        "\n",
        "* The expectation value in the case of two qubits, is calculated considering the computational basis (Z-Axis) as follow: eigenvalues of the Pauli's $Z$ matrix times the corresponding probabilities\n",
        "$$\\frac{1}{N}.(N_{00}\\left\\langle 00 \\right| Z \\otimes Z \\left| 00 \\right\\rangle + N_{11}\\left\\langle 11 \\right| Z \\otimes Z \\left| 11 \\right\\rangle + N_{10}\\left\\langle 10 \\right| Z \\otimes Z \\left| 10 \\right\\rangle + N_{01}\\left\\langle 01 \\right| Z \\otimes Z \\left| 01 \\right\\rangle)$$\n",
        "In which:\n",
        "$$\\left\\langle 00 \\right| Z \\otimes Z \\left| 00 \\right\\rangle = \\left\\langle 11 \\right| Z \\otimes Z \\left| 11 \\right\\rangle = 1$$\n",
        "and\n",
        "$$\\left\\langle 10 \\right| Z \\otimes Z \\left| 10 \\right\\rangle = \\left\\langle 01 \\right| Z \\otimes Z \\left| 01 \\right\\rangle = -1$$\n",
        "therefore the expectation value become:\n",
        "$$\\frac{1}{N}.((N_{00} + N_{11}) - (N_{10} + N_{01}))$$\n",
        "where $N$ is the total number of shots, and $N_{00}$, $N_{11}$, $N_{10}$, $N_{01}$ are the number of time the state $\\left| 00 \\right\\rangle$, $\\left| 11 \\right\\rangle$, $\\left| 10 \\right\\rangle$, $\\left| 01 \\right\\rangle$ are measured respectively."
      ]
    },
    {
      "cell_type": "code",
      "execution_count": 39,
      "metadata": {
        "id": "GQkc2yBsjx73"
      },
      "outputs": [],
      "source": [
        "#calculate the expectation value for each Pauli's gate\n",
        "def expec_value(parameter, measure):\n",
        "    # measure in the right basis, then use the counts to compute the expectation value.\n",
        "    if measure == 'II':\n",
        "        return 1\n",
        "    if measure == 'XX':\n",
        "        circuit = z_measure_circ(parameter, 'XX')\n",
        "    elif measure == 'ZZ':\n",
        "        circuit = z_measure_circ(parameter, 'ZZ')\n",
        "    elif measure == 'YY':\n",
        "        circuit = z_measure_circ(parameter, 'YY')\n",
        "    else:\n",
        "        raise ValueError('Input should be \"II\" or \"XX\" or \"ZZ\" or \"YY\"')\n",
        "\n",
        "    shots = 1000\n",
        "    backend = BasicAer.get_backend('qasm_simulator')\n",
        "    job = execute(circuit, backend, shots=shots)\n",
        "    result = job.result()\n",
        "    counts = result.get_counts()\n",
        "\n",
        "    expectation_value = ((get_from(counts, '00')+get_from(counts, '11')) -\n",
        "                         (get_from(counts,'10')+get_from(counts, '01'))) / shots\n",
        "\n",
        "    return expectation_value"
      ]
    },
    {
      "cell_type": "markdown",
      "metadata": {
        "id": "kghIaMPZjx73"
      },
      "source": [
        "* We will now create a function ```sum_expec``` that sums up all the expectation value inside the one of the Hamiltonian, multiply them by their coefficients, and returns the final result.\n",
        "$$\\left\\langle H \\right\\rangle = a \\cdot \\left\\langle \\psi \\right| II \\left| \\psi \\right\\rangle + b \\cdot \\left\\langle \\psi \\right| XX \\left| \\psi \\right\\rangle + c \\cdot \\left\\langle \\psi \\right| ZZ \\left| \\psi \\right\\rangle + d \\cdot \\left\\langle \\psi \\right| YY \\left| \\psi \\right\\rangle.$$"
      ]
    },
    {
      "cell_type": "code",
      "execution_count": 40,
      "metadata": {
        "id": "Udz3UJP0jx73"
      },
      "outputs": [],
      "source": [
        "def sum_expec(parameter):\n",
        "    if isinstance(parameter, np.ndarray):\n",
        "        parameter = parameter[0]\n",
        "    expec_value_II = get_from(H, 'II') * expec_value(parameter, 'II') #a*<II>\n",
        "    expec_value_XX = get_from(H, 'XX') * expec_value(parameter, 'XX') #b*<XX>\n",
        "    expec_value_ZZ = get_from(H, 'ZZ') * expec_value(parameter, 'ZZ') #c*<ZZ>\n",
        "    expec_value_YY = get_from(H, 'YY') * expec_value(parameter, 'YY') #d*<YY>\n",
        "    # summing the expectations results\n",
        "    sum_result = expec_value_II + expec_value_XX + expec_value_ZZ + expec_value_YY\n",
        "\n",
        "    return sum_result"
      ]
    },
    {
      "cell_type": "markdown",
      "metadata": {
        "id": "4_9REYqwjx73"
      },
      "source": [
        "### Using the optimizer:\n",
        "* the ansatz we had initialized has only one degree of freedom i.e. it depends on one parameter $\\theta$ (rotation) on which we can vary, so the trial wavefunctions depend on $\\theta$; $\\left| \\psi(\\theta) \\right\\rangle$.\n",
        "\n",
        "<b> So, we will use optimizer called ```minimize``` from ```scipy.optimize```, to search the best angle $\\theta$, therefore the best wavefunction $\\left| \\psi(\\theta) \\right\\rangle$, which will minimize the expectation value: $min_\\theta\\left\\langle \\psi(\\theta) \\right| H \\left| \\psi(\\theta) \\right\\rangle = lowest\\; energy\\;$."
      ]
    },
    {
      "cell_type": "code",
      "execution_count": 48,
      "metadata": {
        "colab": {
          "base_uri": "https://localhost:8080/"
        },
        "id": "KJ-FUlFqjx73",
        "outputId": "2af4d7b8-2f1a-4479-f3b9-04277781a928"
      },
      "outputs": [
        {
          "output_type": "stream",
          "name": "stdout",
          "text": [
            "The exact ground state energy is: -1.5\n",
            "The estimated ground state energy using VQE algorithm is: -1.5\n",
            "\n",
            "The optimal parameter theta is : [3.14387264] \n"
          ]
        }
      ],
      "source": [
        "from scipy.optimize import minimize_scalar\n",
        "parameter = 1 #initialize an arbitrary angle\n",
        "\n",
        "tol = 1e-3 #tolerance for optimization precision.\n",
        "#Inject the sum_expec result inside the minimizer function\n",
        "sum_expec_result = minimize(sum_expec, parameter, method=\"Powell\", tol=tol)\n",
        "\n",
        "print('The exact ground state energy is: {}'.format(-1.5))\n",
        "print('The estimated ground state energy using VQE algorithm is: {}'.format(sum_expec_result.fun))\n",
        "print(\"\\nThe optimal parameter theta is : {} \".format(sum_expec_result.x))"
      ]
    },
    {
      "cell_type": "markdown",
      "metadata": {
        "id": "ePtoQjvrjx74"
      },
      "source": [
        "* As can be seen, the optimizer can ﬁnd the best angle $\\theta = 3.1454328877068733 \\approx \\pi \\;$ for the global minimum energy $ E = \\left\\langle \\psi \\right| H \\left| \\psi \\right\\rangle = -1.5$ (in arbitrary units) as expected."
      ]
    },
    {
      "cell_type": "markdown",
      "metadata": {
        "id": "HFWzBYlDjx74"
      },
      "source": [
        "### Final results:\n",
        "\n",
        "**Optimizing over the expectation values for all angles, lead to the optimal angle $\\theta=\\pi$, therefore gives the lowest eigenstate $|\\psi(\\theta)\\rangle$ (the right ansatz), as follow:**"
      ]
    },
    {
      "cell_type": "code",
      "execution_count": 16,
      "metadata": {
        "colab": {
          "base_uri": "https://localhost:8080/",
          "height": 94
        },
        "id": "DI1cd9Usjx75",
        "outputId": "5ef638f6-50de-4dea-a3f3-19c987e83dce"
      },
      "outputs": [
        {
          "output_type": "execute_result",
          "data": {
            "text/plain": [
              "     ┌───┐┌───────┐          \n",
              "q_0: ┤ H ├┤ Rz(π) ├──■───────\n",
              "     └───┘└───────┘┌─┴─┐┌───┐\n",
              "q_1: ──────────────┤ X ├┤ X ├\n",
              "                   └───┘└───┘"
            ],
            "text/html": [
              "<pre style=\"word-wrap: normal;white-space: pre;background: #fff0;line-height: 1.1;font-family: &quot;Courier New&quot;,Courier,monospace\">     ┌───┐┌───────┐          \n",
              "q_0: ┤ H ├┤ Rz(π) ├──■───────\n",
              "     └───┘└───────┘┌─┴─┐┌───┐\n",
              "q_1: ──────────────┤ X ├┤ X ├\n",
              "                   └───┘└───┘</pre>"
            ]
          },
          "metadata": {},
          "execution_count": 16
        }
      ],
      "source": [
        "######## Ansatz Circuit ########\n",
        "qc = QuantumCircuit(2)\n",
        "qc.h(0)\n",
        "qc.rz(np.pi,0)\n",
        "qc.cx(0,1)\n",
        "qc.x(1)\n",
        "qc.draw()"
      ]
    },
    {
      "cell_type": "code",
      "execution_count": 21,
      "metadata": {
        "colab": {
          "base_uri": "https://localhost:8080/",
          "height": 105
        },
        "id": "IkYyk9x3jx75",
        "outputId": "80ae861c-1e10-434d-c835-886d6c568b69"
      },
      "outputs": [
        {
          "output_type": "display_data",
          "data": {
            "text/plain": [
              "<IPython.core.display.Math object>"
            ],
            "text/latex": "$\\displaystyle \n\\\\Statevector: \\; |\\psi(\\theta)\\rangle = \\begin{bmatrix}\n0 \\\\\n\\tfrac{1}{\\sqrt{2}}i \\\\\n-\\tfrac{1}{\\sqrt{2}}i \\\\\n0\n\\end{bmatrix}\n$"
          },
          "metadata": {}
        }
      ],
      "source": [
        "from qiskit_textbook.tools import array_to_latex\n",
        "######## Ansatz State-vector ########\n",
        "backend2 = Aer.get_backend('statevector_simulator')\n",
        "final_state = execute(qc,backend2).result().get_statevector()\n",
        "array_to_latex(final_state, pretext=r\"\\\\Statevector: \\; |\\psi(\\theta)\\rangle = \")"
      ]
    },
    {
      "cell_type": "markdown",
      "metadata": {
        "id": "L7nqQ_Qgjx75"
      },
      "source": [
        "**The corresponding lowest energy is $\\left\\langle \\psi(\\pi)| H |\\psi(\\pi)\\right\\rangle = -\\frac{3}{2}A$.**\n"
      ]
    }
  ],
  "metadata": {
    "kernelspec": {
      "display_name": "Python 3 (ipykernel)",
      "language": "python",
      "name": "python3"
    },
    "language_info": {
      "codemirror_mode": {
        "name": "ipython",
        "version": 3
      },
      "file_extension": ".py",
      "mimetype": "text/x-python",
      "name": "python",
      "nbconvert_exporter": "python",
      "pygments_lexer": "ipython3",
      "version": "3.10.11"
    },
    "colab": {
      "provenance": []
    }
  },
  "nbformat": 4,
  "nbformat_minor": 0
}